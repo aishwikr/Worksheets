{
 "cells": [
  {
   "cell_type": "code",
   "execution_count": 1,
   "metadata": {
    "ExecuteTime": {
     "end_time": "2020-08-27T19:42:37.400353Z",
     "start_time": "2020-08-27T19:42:22.695567Z"
    }
   },
   "outputs": [
    {
     "name": "stdout",
     "output_type": "stream",
     "text": [
      "Collecting selenium\n",
      "  Downloading https://files.pythonhosted.org/packages/80/d6/4294f0b4bce4de0abf13e17190289f9d0613b0a44e5dd6a7f5ca98459853/selenium-3.141.0-py2.py3-none-any.whl (904kB)\n",
      "Requirement already satisfied: urllib3 in c:\\users\\user\\anaconda3\\lib\\site-packages (from selenium) (1.24.1)\n",
      "Installing collected packages: selenium\n",
      "Successfully installed selenium-3.141.0\n"
     ]
    }
   ],
   "source": [
    "!pip install selenium "
   ]
  },
  {
   "cell_type": "code",
   "execution_count": 3,
   "metadata": {
    "ExecuteTime": {
     "end_time": "2020-08-27T23:07:42.319165Z",
     "start_time": "2020-08-27T23:07:34.425927Z"
    }
   },
   "outputs": [
    {
     "name": "stdout",
     "output_type": "stream",
     "text": [
      "Input the URL or string you want to search for:astronomy\n"
     ]
    }
   ],
   "source": [
    "from selenium import webdriver \n",
    "  \n",
    "# Taking input from user \n",
    "search_string = input(\"Input the URL or string you want to search for:\") \n",
    "  \n",
    "# This is done to structure the string  \n",
    "# into search url.(This can be ignored) \n",
    "search_string = search_string.replace(' ', '+')  \n",
    "  \n",
    "# Assigning the browser variable with chromedriver of Chrome. \n",
    "# Any other browser and its respective webdriver  \n",
    "# like geckodriver for Mozilla Firefox can be used \n",
    "browser = webdriver.Chrome('chromedriver') \n",
    "  \n",
    "for i in range(1): \n",
    "    matched_elements = browser.get(\"https://www.images.google.com/search?q=\" +\n",
    "                                     search_string + \"&start=\" + str(i)) \n"
   ]
  },
  {
   "cell_type": "code",
   "execution_count": null,
   "metadata": {},
   "outputs": [],
   "source": []
  }
 ],
 "metadata": {
  "kernelspec": {
   "display_name": "Python 3",
   "language": "python",
   "name": "python3"
  },
  "language_info": {
   "codemirror_mode": {
    "name": "ipython",
    "version": 3
   },
   "file_extension": ".py",
   "mimetype": "text/x-python",
   "name": "python",
   "nbconvert_exporter": "python",
   "pygments_lexer": "ipython3",
   "version": "3.7.3"
  },
  "toc": {
   "base_numbering": 1,
   "nav_menu": {},
   "number_sections": true,
   "sideBar": true,
   "skip_h1_title": false,
   "title_cell": "Table of Contents",
   "title_sidebar": "Contents",
   "toc_cell": false,
   "toc_position": {},
   "toc_section_display": true,
   "toc_window_display": false
  }
 },
 "nbformat": 4,
 "nbformat_minor": 2
}
